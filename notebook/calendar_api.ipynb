{
 "cells": [
  {
   "cell_type": "code",
   "execution_count": 3,
   "metadata": {},
   "outputs": [
    {
     "name": "stderr",
     "output_type": "stream",
     "text": [
      "/Users/toma.tanaka/Library/Caches/pypoetry/virtualenvs/google-calendar-ctIqo5RZ-py3.9/lib/python3.9/site-packages/urllib3/__init__.py:34: NotOpenSSLWarning: urllib3 v2.0 only supports OpenSSL 1.1.1+, currently the 'ssl' module is compiled with 'LibreSSL 2.8.3'. See: https://github.com/urllib3/urllib3/issues/3020\n",
      "  warnings.warn(\n"
     ]
    }
   ],
   "source": [
    "import os.path\n",
    "from google.oauth2.credentials import Credentials\n",
    "from google_auth_oauthlib.flow import InstalledAppFlow\n",
    "from google.auth.transport.requests import Request\n",
    "from googleapiclient.discovery import build\n",
    "\n",
    "from dateutil import parser\n",
    "import datetime\n",
    "import webbrowser\n",
    "\n",
    "# If modifying these SCOPES, delete the file token.json.\n",
    "SCOPES = ['https://www.googleapis.com/auth/calendar.readonly']\n",
    "\n",
    "\n",
    "def service_google_calendar():\n",
    "    creds = None\n",
    "    flow = InstalledAppFlow.from_client_secrets_file(\n",
    "        '../credentials_oauth.json', SCOPES)\n",
    "    #creds = flow.run_local_server(port=0)\n",
    "    creds = flow.run_console()\n",
    "\n",
    "    service = build('calendar', 'v3', credentials=creds)\n",
    "    return service\n",
    "\n",
    "\n",
    "\n",
    "def get_events(start_date, end_date):\n",
    "    service = service_google_calendar()\n",
    "\n",
    "    timeMin = start_date.isoformat() + 'Z'\n",
    "    timeMax = end_date.isoformat() + 'Z'\n",
    "\n",
    "    print(f'Getting events from {start_date} to {end_date}')\n",
    "    events_result = service.events().list(\n",
    "        calendarId='primary', timeMin=timeMin, timeMax=timeMax,\n",
    "        maxResults=1000, singleEvents=True,\n",
    "        orderBy='startTime').execute()\n",
    "    events = events_result.get('items', [])\n",
    "\n",
    "    if not events:\n",
    "        print('No events found.')\n",
    "    data = {}\n",
    "    i = 0\n",
    "    for event in events:\n",
    "        i += 1\n",
    "        start_str = event['start'].get('dateTime', event['start'].get('date'))\n",
    "        end_str = event['end'].get('dateTime', event['end'].get('date'))\n",
    "        description = event.get('description', '')\n",
    "        title = event.get('summary', '')\n",
    "\n",
    "        start_dt = parser.parse(start_str)\n",
    "        end_dt = parser.parse(end_str)\n",
    "        time = end_dt - start_dt\n",
    "        start_date = start_dt.date()\n",
    "\n",
    "        #data[i] = {'description': description, 'time' :time }\n",
    "        data[i] = {'title': title, 'date': start_date ,'description': description, 'time': time}\n",
    "\n",
    "    return data\n"
   ]
  },
  {
   "cell_type": "code",
   "execution_count": 4,
   "metadata": {},
   "outputs": [
    {
     "name": "stdout",
     "output_type": "stream",
     "text": [
      "Please visit this URL to authorize this application: https://accounts.google.com/o/oauth2/auth?response_type=code&client_id=850777348069-qjum0unqirofdj4e9c0dbla79dmoanir.apps.googleusercontent.com&redirect_uri=urn%3Aietf%3Awg%3Aoauth%3A2.0%3Aoob&scope=https%3A%2F%2Fwww.googleapis.com%2Fauth%2Fcalendar.readonly&state=ZUy4nwns0UxclQmPKhH3FsWdSasbCS&prompt=consent&access_type=offline\n"
     ]
    },
    {
     "ename": "KeyboardInterrupt",
     "evalue": "Interrupted by user",
     "output_type": "error",
     "traceback": [
      "\u001b[0;31m---------------------------------------------------------------------------\u001b[0m",
      "\u001b[0;31mKeyboardInterrupt\u001b[0m                         Traceback (most recent call last)",
      "Cell \u001b[0;32mIn[4], line 5\u001b[0m\n\u001b[1;32m      3\u001b[0m start_date \u001b[38;5;241m=\u001b[39m datetime\u001b[38;5;241m.\u001b[39mdatetime(\u001b[38;5;241m2023\u001b[39m, \u001b[38;5;241m9\u001b[39m, \u001b[38;5;241m1\u001b[39m)\n\u001b[1;32m      4\u001b[0m end_date \u001b[38;5;241m=\u001b[39m datetime\u001b[38;5;241m.\u001b[39mdatetime(\u001b[38;5;241m2023\u001b[39m, \u001b[38;5;241m9\u001b[39m, \u001b[38;5;241m30\u001b[39m)\n\u001b[0;32m----> 5\u001b[0m data \u001b[38;5;241m=\u001b[39m \u001b[43mget_events\u001b[49m\u001b[43m(\u001b[49m\u001b[43mstart_date\u001b[49m\u001b[43m,\u001b[49m\u001b[43m \u001b[49m\u001b[43mend_date\u001b[49m\u001b[43m)\u001b[49m\n",
      "Cell \u001b[0;32mIn[3], line 28\u001b[0m, in \u001b[0;36mget_events\u001b[0;34m(start_date, end_date)\u001b[0m\n\u001b[1;32m     27\u001b[0m \u001b[38;5;28;01mdef\u001b[39;00m \u001b[38;5;21mget_events\u001b[39m(start_date, end_date):\n\u001b[0;32m---> 28\u001b[0m     service \u001b[38;5;241m=\u001b[39m \u001b[43mservice_google_calendar\u001b[49m\u001b[43m(\u001b[49m\u001b[43m)\u001b[49m\n\u001b[1;32m     30\u001b[0m     timeMin \u001b[38;5;241m=\u001b[39m start_date\u001b[38;5;241m.\u001b[39misoformat() \u001b[38;5;241m+\u001b[39m \u001b[38;5;124m'\u001b[39m\u001b[38;5;124mZ\u001b[39m\u001b[38;5;124m'\u001b[39m\n\u001b[1;32m     31\u001b[0m     timeMax \u001b[38;5;241m=\u001b[39m end_date\u001b[38;5;241m.\u001b[39misoformat() \u001b[38;5;241m+\u001b[39m \u001b[38;5;124m'\u001b[39m\u001b[38;5;124mZ\u001b[39m\u001b[38;5;124m'\u001b[39m\n",
      "Cell \u001b[0;32mIn[3], line 20\u001b[0m, in \u001b[0;36mservice_google_calendar\u001b[0;34m()\u001b[0m\n\u001b[1;32m     17\u001b[0m flow \u001b[38;5;241m=\u001b[39m InstalledAppFlow\u001b[38;5;241m.\u001b[39mfrom_client_secrets_file(\n\u001b[1;32m     18\u001b[0m     \u001b[38;5;124m'\u001b[39m\u001b[38;5;124m../credentials_oauth.json\u001b[39m\u001b[38;5;124m'\u001b[39m, SCOPES)\n\u001b[1;32m     19\u001b[0m \u001b[38;5;66;03m#creds = flow.run_local_server(port=0)\u001b[39;00m\n\u001b[0;32m---> 20\u001b[0m creds \u001b[38;5;241m=\u001b[39m \u001b[43mflow\u001b[49m\u001b[38;5;241;43m.\u001b[39;49m\u001b[43mrun_console\u001b[49m\u001b[43m(\u001b[49m\u001b[43m)\u001b[49m\n\u001b[1;32m     22\u001b[0m service \u001b[38;5;241m=\u001b[39m build(\u001b[38;5;124m'\u001b[39m\u001b[38;5;124mcalendar\u001b[39m\u001b[38;5;124m'\u001b[39m, \u001b[38;5;124m'\u001b[39m\u001b[38;5;124mv3\u001b[39m\u001b[38;5;124m'\u001b[39m, credentials\u001b[38;5;241m=\u001b[39mcreds)\n\u001b[1;32m     23\u001b[0m \u001b[38;5;28;01mreturn\u001b[39;00m service\n",
      "File \u001b[0;32m~/Library/Caches/pypoetry/virtualenvs/google-calendar-ctIqo5RZ-py3.9/lib/python3.9/site-packages/google_auth_oauthlib/flow.py:402\u001b[0m, in \u001b[0;36mInstalledAppFlow.run_console\u001b[0;34m(self, authorization_prompt_message, authorization_code_message, **kwargs)\u001b[0m\n\u001b[1;32m    <a href='file:///Users/toma.tanaka/Library/Caches/pypoetry/virtualenvs/google-calendar-ctIqo5RZ-py3.9/lib/python3.9/site-packages/google_auth_oauthlib/flow.py?line=397'>398</a>\u001b[0m auth_url, _ \u001b[39m=\u001b[39m \u001b[39mself\u001b[39m\u001b[39m.\u001b[39mauthorization_url(\u001b[39m*\u001b[39m\u001b[39m*\u001b[39mkwargs)\n\u001b[1;32m    <a href='file:///Users/toma.tanaka/Library/Caches/pypoetry/virtualenvs/google-calendar-ctIqo5RZ-py3.9/lib/python3.9/site-packages/google_auth_oauthlib/flow.py?line=399'>400</a>\u001b[0m \u001b[39mprint\u001b[39m(authorization_prompt_message\u001b[39m.\u001b[39mformat(url\u001b[39m=\u001b[39mauth_url))\n\u001b[0;32m--> <a href='file:///Users/toma.tanaka/Library/Caches/pypoetry/virtualenvs/google-calendar-ctIqo5RZ-py3.9/lib/python3.9/site-packages/google_auth_oauthlib/flow.py?line=401'>402</a>\u001b[0m code \u001b[39m=\u001b[39m \u001b[39minput\u001b[39;49m(authorization_code_message)\n\u001b[1;32m    <a href='file:///Users/toma.tanaka/Library/Caches/pypoetry/virtualenvs/google-calendar-ctIqo5RZ-py3.9/lib/python3.9/site-packages/google_auth_oauthlib/flow.py?line=403'>404</a>\u001b[0m \u001b[39mself\u001b[39m\u001b[39m.\u001b[39mfetch_token(code\u001b[39m=\u001b[39mcode)\n\u001b[1;32m    <a href='file:///Users/toma.tanaka/Library/Caches/pypoetry/virtualenvs/google-calendar-ctIqo5RZ-py3.9/lib/python3.9/site-packages/google_auth_oauthlib/flow.py?line=405'>406</a>\u001b[0m \u001b[39mreturn\u001b[39;00m \u001b[39mself\u001b[39m\u001b[39m.\u001b[39mcredentials\n",
      "File \u001b[0;32m~/Library/Caches/pypoetry/virtualenvs/google-calendar-ctIqo5RZ-py3.9/lib/python3.9/site-packages/ipykernel/kernelbase.py:1202\u001b[0m, in \u001b[0;36mKernel.raw_input\u001b[0;34m(self, prompt)\u001b[0m\n\u001b[1;32m   <a href='file:///Users/toma.tanaka/Library/Caches/pypoetry/virtualenvs/google-calendar-ctIqo5RZ-py3.9/lib/python3.9/site-packages/ipykernel/kernelbase.py?line=1199'>1200</a>\u001b[0m     msg \u001b[39m=\u001b[39m \u001b[39m\"\u001b[39m\u001b[39mraw_input was called, but this frontend does not support input requests.\u001b[39m\u001b[39m\"\u001b[39m\n\u001b[1;32m   <a href='file:///Users/toma.tanaka/Library/Caches/pypoetry/virtualenvs/google-calendar-ctIqo5RZ-py3.9/lib/python3.9/site-packages/ipykernel/kernelbase.py?line=1200'>1201</a>\u001b[0m     \u001b[39mraise\u001b[39;00m StdinNotImplementedError(msg)\n\u001b[0;32m-> <a href='file:///Users/toma.tanaka/Library/Caches/pypoetry/virtualenvs/google-calendar-ctIqo5RZ-py3.9/lib/python3.9/site-packages/ipykernel/kernelbase.py?line=1201'>1202</a>\u001b[0m \u001b[39mreturn\u001b[39;00m \u001b[39mself\u001b[39;49m\u001b[39m.\u001b[39;49m_input_request(\n\u001b[1;32m   <a href='file:///Users/toma.tanaka/Library/Caches/pypoetry/virtualenvs/google-calendar-ctIqo5RZ-py3.9/lib/python3.9/site-packages/ipykernel/kernelbase.py?line=1202'>1203</a>\u001b[0m     \u001b[39mstr\u001b[39;49m(prompt),\n\u001b[1;32m   <a href='file:///Users/toma.tanaka/Library/Caches/pypoetry/virtualenvs/google-calendar-ctIqo5RZ-py3.9/lib/python3.9/site-packages/ipykernel/kernelbase.py?line=1203'>1204</a>\u001b[0m     \u001b[39mself\u001b[39;49m\u001b[39m.\u001b[39;49m_parent_ident[\u001b[39m\"\u001b[39;49m\u001b[39mshell\u001b[39;49m\u001b[39m\"\u001b[39;49m],\n\u001b[1;32m   <a href='file:///Users/toma.tanaka/Library/Caches/pypoetry/virtualenvs/google-calendar-ctIqo5RZ-py3.9/lib/python3.9/site-packages/ipykernel/kernelbase.py?line=1204'>1205</a>\u001b[0m     \u001b[39mself\u001b[39;49m\u001b[39m.\u001b[39;49mget_parent(\u001b[39m\"\u001b[39;49m\u001b[39mshell\u001b[39;49m\u001b[39m\"\u001b[39;49m),\n\u001b[1;32m   <a href='file:///Users/toma.tanaka/Library/Caches/pypoetry/virtualenvs/google-calendar-ctIqo5RZ-py3.9/lib/python3.9/site-packages/ipykernel/kernelbase.py?line=1205'>1206</a>\u001b[0m     password\u001b[39m=\u001b[39;49m\u001b[39mFalse\u001b[39;49;00m,\n\u001b[1;32m   <a href='file:///Users/toma.tanaka/Library/Caches/pypoetry/virtualenvs/google-calendar-ctIqo5RZ-py3.9/lib/python3.9/site-packages/ipykernel/kernelbase.py?line=1206'>1207</a>\u001b[0m )\n",
      "File \u001b[0;32m~/Library/Caches/pypoetry/virtualenvs/google-calendar-ctIqo5RZ-py3.9/lib/python3.9/site-packages/ipykernel/kernelbase.py:1245\u001b[0m, in \u001b[0;36mKernel._input_request\u001b[0;34m(self, prompt, ident, parent, password)\u001b[0m\n\u001b[1;32m   <a href='file:///Users/toma.tanaka/Library/Caches/pypoetry/virtualenvs/google-calendar-ctIqo5RZ-py3.9/lib/python3.9/site-packages/ipykernel/kernelbase.py?line=1241'>1242</a>\u001b[0m \u001b[39mexcept\u001b[39;00m \u001b[39mKeyboardInterrupt\u001b[39;00m:\n\u001b[1;32m   <a href='file:///Users/toma.tanaka/Library/Caches/pypoetry/virtualenvs/google-calendar-ctIqo5RZ-py3.9/lib/python3.9/site-packages/ipykernel/kernelbase.py?line=1242'>1243</a>\u001b[0m     \u001b[39m# re-raise KeyboardInterrupt, to truncate traceback\u001b[39;00m\n\u001b[1;32m   <a href='file:///Users/toma.tanaka/Library/Caches/pypoetry/virtualenvs/google-calendar-ctIqo5RZ-py3.9/lib/python3.9/site-packages/ipykernel/kernelbase.py?line=1243'>1244</a>\u001b[0m     msg \u001b[39m=\u001b[39m \u001b[39m\"\u001b[39m\u001b[39mInterrupted by user\u001b[39m\u001b[39m\"\u001b[39m\n\u001b[0;32m-> <a href='file:///Users/toma.tanaka/Library/Caches/pypoetry/virtualenvs/google-calendar-ctIqo5RZ-py3.9/lib/python3.9/site-packages/ipykernel/kernelbase.py?line=1244'>1245</a>\u001b[0m     \u001b[39mraise\u001b[39;00m \u001b[39mKeyboardInterrupt\u001b[39;00m(msg) \u001b[39mfrom\u001b[39;00m \u001b[39mNone\u001b[39;00m\n\u001b[1;32m   <a href='file:///Users/toma.tanaka/Library/Caches/pypoetry/virtualenvs/google-calendar-ctIqo5RZ-py3.9/lib/python3.9/site-packages/ipykernel/kernelbase.py?line=1245'>1246</a>\u001b[0m \u001b[39mexcept\u001b[39;00m \u001b[39mException\u001b[39;00m:\n\u001b[1;32m   <a href='file:///Users/toma.tanaka/Library/Caches/pypoetry/virtualenvs/google-calendar-ctIqo5RZ-py3.9/lib/python3.9/site-packages/ipykernel/kernelbase.py?line=1246'>1247</a>\u001b[0m     \u001b[39mself\u001b[39m\u001b[39m.\u001b[39mlog\u001b[39m.\u001b[39mwarning(\u001b[39m\"\u001b[39m\u001b[39mInvalid Message:\u001b[39m\u001b[39m\"\u001b[39m, exc_info\u001b[39m=\u001b[39m\u001b[39mTrue\u001b[39;00m)\n",
      "\u001b[0;31mKeyboardInterrupt\u001b[0m: Interrupted by user"
     ]
    }
   ],
   "source": [
    "#import datetime\n",
    "\n",
    "start_date = datetime.datetime(2023, 9, 1)\n",
    "end_date = datetime.datetime(2023, 9, 30)\n",
    "data = get_events(start_date, end_date)"
   ]
  },
  {
   "cell_type": "code",
   "execution_count": 62,
   "metadata": {},
   "outputs": [
    {
     "name": "stdout",
     "output_type": "stream",
     "text": [
      "/Users/toma.tanaka/Library/Caches/pypoetry/virtualenvs/google-calendar-ctIqo5RZ-py3.9/lib/python3.9/site-packages/google_auth_oauthlib/flow.py\n"
     ]
    }
   ],
   "source": [
    "import google_auth_oauthlib.flow\n",
    "\n",
    "print(google_auth_oauthlib.flow.__file__)\n"
   ]
  },
  {
   "cell_type": "code",
   "execution_count": 51,
   "metadata": {},
   "outputs": [],
   "source": [
    "def service_google_calendar():\n",
    "    # The credentials.json file is expected to be in the same directory.\n",
    "    flow = InstalledAppFlow.from_client_secrets_file('/Users/toma.tanaka/vscode/google-calendar/credentials_oauth.json', SCOPES)\n",
    "    creds = flow.run_console()\n",
    "\n",
    "    service = build('calendar', 'v3', credentials=creds)\n",
    "    return service\n",
    "\n",
    "def get_events(start_date, end_date):\n",
    "    service = service_google_calendar()\n",
    "\n",
    "    timeMin = start_date.isoformat() + 'Z'\n",
    "    timeMax = end_date.isoformat() + 'Z'\n",
    "\n",
    "    print(f'Getting events from {start_date} to {end_date}')\n",
    "    events_result = service.events().list(\n",
    "        calendarId='primary', timeMin=timeMin, timeMax=timeMax,\n",
    "        maxResults=10, singleEvents=True,\n",
    "        orderBy='startTime').execute()\n",
    "    events = events_result.get('items', [])\n",
    "\n",
    "    if not events:\n",
    "        print('No events found.')\n",
    "    data = {}\n",
    "    i = 0\n",
    "    for event in events:\n",
    "        i += 1\n",
    "        start_str = event['start'].get('dateTime', event['start'].get('date'))\n",
    "        end_str = event['end'].get('dateTime', event['end'].get('date'))\n",
    "        description = event.get('description', '')\n",
    "\n",
    "        start_dt = parser.parse(start_str)\n",
    "        end_dt = parser.parse(end_str)\n",
    "        time = end_dt - start_dt\n",
    "\n",
    "        data[i] = {'description': description, 'time': time}\n",
    "\n",
    "    return data"
   ]
  },
  {
   "cell_type": "code",
   "execution_count": 9,
   "metadata": {},
   "outputs": [],
   "source": [
    "import re\n",
    "import pandas as pd\n",
    "\n",
    "def data_to_df(data):\n",
    "    df = pd.DataFrame()\n",
    "    for i in data:\n",
    "        description = data[i]['description']\n",
    "        pattern = re.compile(r'工数:\\[(.*?)\\]')\n",
    "        match = pattern.search(description)\n",
    "        if match:\n",
    "            code = match.group(1)\n",
    "            date = data[i]['date']\n",
    "            time = data[i]['time']\n",
    "            new_data = pd.DataFrame([[1, 2, 3]], columns=['A', 'B', 'C'])\n",
    "            df = pd.concat([df, new_data], ignore_index=True)\n",
    "            print(time)\n",
    "            print(date)\n",
    "            print(code)\n",
    "    return df"
   ]
  },
  {
   "cell_type": "code",
   "execution_count": 10,
   "metadata": {},
   "outputs": [
    {
     "name": "stdout",
     "output_type": "stream",
     "text": [
      "0:30:00\n",
      "2023-09-20\n",
      "<span>PJ008374-00</span><span>\n",
      "1:00:00\n",
      "2023-09-27\n",
      "PJ008374-00\n",
      "0:30:00\n",
      "2023-09-28\n",
      "PJ008374-00\n"
     ]
    }
   ],
   "source": [
    "data_to_df(data)"
   ]
  },
  {
   "cell_type": "code",
   "execution_count": 46,
   "metadata": {},
   "outputs": [],
   "source": [
    "import pandas as pd\n",
    "import re\n",
    "import datetime\n",
    "\n",
    "def convert_to_time(decimal_time):\n",
    "    hours = int(decimal_time)\n",
    "    minutes = int((decimal_time - hours) * 60)\n",
    "    return f\"{hours:02d}:{minutes:02d}\"\n",
    "\n",
    "def data_to_df(data):\n",
    "    # 初期の空のデータフレームを作成します\n",
    "    df = pd.DataFrame()\n",
    "\n",
    "    # データをループで処理します\n",
    "    for i in data:\n",
    "        description = data[i]['description']\n",
    "        pattern = re.compile(r'工数:\\[(.*?)\\]')\n",
    "        match = pattern.search(description)\n",
    "\n",
    "        # マッチするものがある場合、データフレームを更新します\n",
    "        if match:\n",
    "            code = match.group(1)\n",
    "            date = data[i]['date']\n",
    "            time = data[i]['time'].total_seconds() / 3600  # 時間を時間単位に変換します（オプション）\n",
    "\n",
    "            # 新しいデータが既存のデータフレームに存在するかチェックします\n",
    "            if date in df.index and code in df.columns:\n",
    "                df.at[date, code] += time  # 時間を加算します\n",
    "            else:\n",
    "                # データが存在しない場合、新しい行または列を作成します\n",
    "                df.at[date, code] = time\n",
    "\n",
    "    # NaN値を0で埋めます\n",
    "    df.fillna(0, inplace=True)\n",
    "\n",
    "    for column in df.columns:\n",
    "        df[column] = df[column].apply(convert_to_time)\n",
    "\n",
    "    return df\n"
   ]
  },
  {
   "cell_type": "code",
   "execution_count": 47,
   "metadata": {},
   "outputs": [],
   "source": [
    "df = data_to_df(data)"
   ]
  },
  {
   "cell_type": "code",
   "execution_count": 48,
   "metadata": {},
   "outputs": [
    {
     "data": {
      "text/html": [
       "<div>\n",
       "<style scoped>\n",
       "    .dataframe tbody tr th:only-of-type {\n",
       "        vertical-align: middle;\n",
       "    }\n",
       "\n",
       "    .dataframe tbody tr th {\n",
       "        vertical-align: top;\n",
       "    }\n",
       "\n",
       "    .dataframe thead th {\n",
       "        text-align: right;\n",
       "    }\n",
       "</style>\n",
       "<table border=\"1\" class=\"dataframe\">\n",
       "  <thead>\n",
       "    <tr style=\"text-align: right;\">\n",
       "      <th></th>\n",
       "      <th>PJ00833-10</th>\n",
       "      <th>PJ008374-00</th>\n",
       "      <th>PJ008333-00</th>\n",
       "    </tr>\n",
       "  </thead>\n",
       "  <tbody>\n",
       "    <tr>\n",
       "      <th>2023-09-25</th>\n",
       "      <td>00:30</td>\n",
       "      <td>00:00</td>\n",
       "      <td>00:00</td>\n",
       "    </tr>\n",
       "    <tr>\n",
       "      <th>2023-09-27</th>\n",
       "      <td>00:00</td>\n",
       "      <td>01:30</td>\n",
       "      <td>00:30</td>\n",
       "    </tr>\n",
       "    <tr>\n",
       "      <th>2023-09-28</th>\n",
       "      <td>00:00</td>\n",
       "      <td>00:30</td>\n",
       "      <td>00:00</td>\n",
       "    </tr>\n",
       "  </tbody>\n",
       "</table>\n",
       "</div>"
      ],
      "text/plain": [
       "           PJ00833-10 PJ008374-00 PJ008333-00\n",
       "2023-09-25      00:30       00:00       00:00\n",
       "2023-09-27      00:00       01:30       00:30\n",
       "2023-09-28      00:00       00:30       00:00"
      ]
     },
     "execution_count": 48,
     "metadata": {},
     "output_type": "execute_result"
    }
   ],
   "source": [
    "df.head()"
   ]
  },
  {
   "cell_type": "code",
   "execution_count": 45,
   "metadata": {},
   "outputs": [
    {
     "name": "stdout",
     "output_type": "stream",
     "text": [
      "PJ00833-10\n",
      "PJ008374-00\n",
      "PJ008333-00\n"
     ]
    }
   ],
   "source": [
    "for i in df.columns:\n",
    "    print(i)"
   ]
  },
  {
   "cell_type": "code",
   "execution_count": 34,
   "metadata": {},
   "outputs": [],
   "source": [
    "import pandas as pd\n",
    "import re\n",
    "import datetime\n",
    "\n",
    "def convert_to_time(decimal_time):\n",
    "    hours = int(decimal_time)\n",
    "    minutes = int((decimal_time - hours) * 60)\n",
    "    return f\"{hours:02d}:{minutes:02d}\"\n",
    "\n",
    "def data_to_df(data):\n",
    "    df = pd.DataFrame()\n",
    "\n",
    "    for i in data:\n",
    "        description = data[i]['description']\n",
    "        pattern = re.compile(r'工数:\\[(.*?)\\]')\n",
    "        match = pattern.search(description)\n",
    "\n",
    "        if match:\n",
    "            code = match.group(1)\n",
    "            date = data[i]['date']\n",
    "            time = data[i]['time']\n",
    "            \n",
    "            # 時間を文字列としてフォーマットします\n",
    "            hours, remainder = divmod(time.seconds, 3600)\n",
    "            minutes, _ = divmod(remainder, 60)\n",
    "            time_str = f\"{hours:02}:{minutes:02}\"\n",
    "\n",
    "            if date in df.index and code in df.columns:\n",
    "                # 既存の時間データを抽出し、新しい時間データを加算します\n",
    "                existing_time_str = df.at[date, code]\n",
    "                existing_hours, existing_minutes = map(int, existing_time_str.split(\":\"))\n",
    "                existing_time = datetime.timedelta(hours=existing_hours, minutes=existing_minutes)\n",
    "                total_time = existing_time + time\n",
    "                \n",
    "                # 合計時間を文字列としてフォーマットします\n",
    "                hours, remainder = divmod(total_time.seconds, 3600)\n",
    "                minutes, _ = divmod(remainder, 60)\n",
    "                df.at[date, code] = f\"{hours:02}:{minutes:02}\"\n",
    "            else:\n",
    "                # 新しいエントリを作成します（型を明示的に指定します）\n",
    "                df.at[date, code] = time_str\n",
    "\n",
    "    df.fillna(\"00:00\", inplace=True)\n",
    "\n",
    "    for column in ['PJ00833-10', 'PJ008374-00', 'PJ008333-00']:\n",
    "        df[column] = df[column].apply(convert_to_time)\n",
    "    \n",
    "    return df\n",
    "\n"
   ]
  },
  {
   "cell_type": "code",
   "execution_count": 39,
   "metadata": {},
   "outputs": [],
   "source": [
    "import pandas as pd\n",
    "import re\n",
    "import datetime\n",
    "\n",
    "def data_to_df(data):\n",
    "    df = pd.DataFrame()\n",
    "\n",
    "    for i in data:\n",
    "        description = data[i]['description']\n",
    "        pattern = re.compile(r'工数:\\[(.*?)\\]')\n",
    "        match = pattern.search(description)\n",
    "\n",
    "        if match:\n",
    "            code = match.group(1)\n",
    "            date = data[i]['date']\n",
    "            time = data[i]['time']\n",
    "            \n",
    "            # 時間を文字列としてフォーマットします\n",
    "            hours, remainder = divmod(time.seconds, 3600)\n",
    "            minutes, _ = divmod(remainder, 60)\n",
    "            time_str = f\"{hours:02}:{minutes:02}\"\n",
    "\n",
    "            if date in df.index and code in df.columns:\n",
    "                # 既存の時間データを抽出し、新しい時間データを加算します\n",
    "                existing_time_str = df.at[date, code]\n",
    "                existing_hours, existing_minutes = map(int, str(existing_time_str).split(\":\"))\n",
    "                existing_time = datetime.timedelta(hours=existing_hours, minutes=existing_minutes)\n",
    "                total_time = existing_time + time\n",
    "                \n",
    "                # 合計時間を文字列としてフォーマットします\n",
    "                hours, remainder = divmod(total_time.seconds, 3600)\n",
    "                minutes, _ = divmod(remainder, 60)\n",
    "                df.at[date, code] = f\"{hours:02}:{minutes:02}\"\n",
    "            else:\n",
    "                # 新しいエントリを作成します（型を明示的に指定します）\n",
    "                df.at[date, code] = time_str\n",
    "\n",
    "    df.fillna(\"00:00\", inplace=True)\n",
    "    \n",
    "    return df\n"
   ]
  },
  {
   "cell_type": "code",
   "execution_count": 40,
   "metadata": {},
   "outputs": [
    {
     "name": "stderr",
     "output_type": "stream",
     "text": [
      "/var/folders/np/kqyc7p1d5h7fy7n79vwt5k84pt_zsh/T/ipykernel_83731/3656188120.py:36: FutureWarning: Setting an item of incompatible dtype is deprecated and will raise in a future error of pandas. Value '00:30' has dtype incompatible with float64, please explicitly cast to a compatible dtype first.\n",
      "  df.at[date, code] = time_str\n",
      "/var/folders/np/kqyc7p1d5h7fy7n79vwt5k84pt_zsh/T/ipykernel_83731/3656188120.py:36: FutureWarning: Setting an item of incompatible dtype is deprecated and will raise in a future error of pandas. Value '01:00' has dtype incompatible with float64, please explicitly cast to a compatible dtype first.\n",
      "  df.at[date, code] = time_str\n",
      "/var/folders/np/kqyc7p1d5h7fy7n79vwt5k84pt_zsh/T/ipykernel_83731/3656188120.py:36: FutureWarning: Setting an item of incompatible dtype is deprecated and will raise in a future error of pandas. Value '00:30' has dtype incompatible with float64, please explicitly cast to a compatible dtype first.\n",
      "  df.at[date, code] = time_str\n"
     ]
    },
    {
     "ename": "ValueError",
     "evalue": "invalid literal for int() with base 10: 'nan'",
     "output_type": "error",
     "traceback": [
      "\u001b[0;31m---------------------------------------------------------------------------\u001b[0m",
      "\u001b[0;31mValueError\u001b[0m                                Traceback (most recent call last)",
      "Cell \u001b[0;32mIn[40], line 1\u001b[0m\n\u001b[0;32m----> 1\u001b[0m df \u001b[38;5;241m=\u001b[39m \u001b[43mdata_to_df\u001b[49m\u001b[43m(\u001b[49m\u001b[43mdata\u001b[49m\u001b[43m)\u001b[49m\n",
      "Cell \u001b[0;32mIn[39], line 26\u001b[0m, in \u001b[0;36mdata_to_df\u001b[0;34m(data)\u001b[0m\n\u001b[1;32m     23\u001b[0m \u001b[38;5;28;01mif\u001b[39;00m date \u001b[38;5;129;01min\u001b[39;00m df\u001b[38;5;241m.\u001b[39mindex \u001b[38;5;129;01mand\u001b[39;00m code \u001b[38;5;129;01min\u001b[39;00m df\u001b[38;5;241m.\u001b[39mcolumns:\n\u001b[1;32m     24\u001b[0m     \u001b[38;5;66;03m# 既存の時間データを抽出し、新しい時間データを加算します\u001b[39;00m\n\u001b[1;32m     25\u001b[0m     existing_time_str \u001b[38;5;241m=\u001b[39m df\u001b[38;5;241m.\u001b[39mat[date, code]\n\u001b[0;32m---> 26\u001b[0m     existing_hours, existing_minutes \u001b[38;5;241m=\u001b[39m \u001b[38;5;28mmap\u001b[39m(\u001b[38;5;28mint\u001b[39m, \u001b[38;5;28mstr\u001b[39m(existing_time_str)\u001b[38;5;241m.\u001b[39msplit(\u001b[38;5;124m\"\u001b[39m\u001b[38;5;124m:\u001b[39m\u001b[38;5;124m\"\u001b[39m))\n\u001b[1;32m     27\u001b[0m     existing_time \u001b[38;5;241m=\u001b[39m datetime\u001b[38;5;241m.\u001b[39mtimedelta(hours\u001b[38;5;241m=\u001b[39mexisting_hours, minutes\u001b[38;5;241m=\u001b[39mexisting_minutes)\n\u001b[1;32m     28\u001b[0m     total_time \u001b[38;5;241m=\u001b[39m existing_time \u001b[38;5;241m+\u001b[39m time\n",
      "\u001b[0;31mValueError\u001b[0m: invalid literal for int() with base 10: 'nan'"
     ]
    }
   ],
   "source": [
    "df = data_to_df(data)"
   ]
  },
  {
   "cell_type": "code",
   "execution_count": 37,
   "metadata": {},
   "outputs": [
    {
     "name": "stderr",
     "output_type": "stream",
     "text": [
      "/var/folders/np/kqyc7p1d5h7fy7n79vwt5k84pt_zsh/T/ipykernel_83731/3656188120.py:36: FutureWarning: Setting an item of incompatible dtype is deprecated and will raise in a future error of pandas. Value '00:30' has dtype incompatible with float64, please explicitly cast to a compatible dtype first.\n",
      "  df.at[date, code] = time_str\n",
      "/var/folders/np/kqyc7p1d5h7fy7n79vwt5k84pt_zsh/T/ipykernel_83731/3656188120.py:36: FutureWarning: Setting an item of incompatible dtype is deprecated and will raise in a future error of pandas. Value '01:00' has dtype incompatible with float64, please explicitly cast to a compatible dtype first.\n",
      "  df.at[date, code] = time_str\n",
      "/var/folders/np/kqyc7p1d5h7fy7n79vwt5k84pt_zsh/T/ipykernel_83731/3656188120.py:36: FutureWarning: Setting an item of incompatible dtype is deprecated and will raise in a future error of pandas. Value '00:30' has dtype incompatible with float64, please explicitly cast to a compatible dtype first.\n",
      "  df.at[date, code] = time_str\n"
     ]
    },
    {
     "ename": "ValueError",
     "evalue": "invalid literal for int() with base 10: 'nan'",
     "output_type": "error",
     "traceback": [
      "\u001b[0;31m---------------------------------------------------------------------------\u001b[0m",
      "\u001b[0;31mValueError\u001b[0m                                Traceback (most recent call last)",
      "Cell \u001b[0;32mIn[37], line 1\u001b[0m\n\u001b[0;32m----> 1\u001b[0m df \u001b[38;5;241m=\u001b[39m \u001b[43mdata_to_df\u001b[49m\u001b[43m(\u001b[49m\u001b[43mdata\u001b[49m\u001b[43m)\u001b[49m\n",
      "Cell \u001b[0;32mIn[36], line 26\u001b[0m, in \u001b[0;36mdata_to_df\u001b[0;34m(data)\u001b[0m\n\u001b[1;32m     23\u001b[0m \u001b[38;5;28;01mif\u001b[39;00m date \u001b[38;5;129;01min\u001b[39;00m df\u001b[38;5;241m.\u001b[39mindex \u001b[38;5;129;01mand\u001b[39;00m code \u001b[38;5;129;01min\u001b[39;00m df\u001b[38;5;241m.\u001b[39mcolumns:\n\u001b[1;32m     24\u001b[0m     \u001b[38;5;66;03m# 既存の時間データを抽出し、新しい時間データを加算します\u001b[39;00m\n\u001b[1;32m     25\u001b[0m     existing_time_str \u001b[38;5;241m=\u001b[39m df\u001b[38;5;241m.\u001b[39mat[date, code]\n\u001b[0;32m---> 26\u001b[0m     existing_hours, existing_minutes \u001b[38;5;241m=\u001b[39m \u001b[38;5;28mmap\u001b[39m(\u001b[38;5;28mint\u001b[39m, \u001b[38;5;28mstr\u001b[39m(existing_time_str)\u001b[38;5;241m.\u001b[39msplit(\u001b[38;5;124m\"\u001b[39m\u001b[38;5;124m:\u001b[39m\u001b[38;5;124m\"\u001b[39m))\n\u001b[1;32m     27\u001b[0m     existing_time \u001b[38;5;241m=\u001b[39m datetime\u001b[38;5;241m.\u001b[39mtimedelta(hours\u001b[38;5;241m=\u001b[39mexisting_hours, minutes\u001b[38;5;241m=\u001b[39mexisting_minutes)\n\u001b[1;32m     28\u001b[0m     total_time \u001b[38;5;241m=\u001b[39m existing_time \u001b[38;5;241m+\u001b[39m time\n",
      "\u001b[0;31mValueError\u001b[0m: invalid literal for int() with base 10: 'nan'"
     ]
    }
   ],
   "source": [
    "df = data_to_df(data)"
   ]
  },
  {
   "cell_type": "code",
   "execution_count": 33,
   "metadata": {},
   "outputs": [
    {
     "data": {
      "text/html": [
       "<div>\n",
       "<style scoped>\n",
       "    .dataframe tbody tr th:only-of-type {\n",
       "        vertical-align: middle;\n",
       "    }\n",
       "\n",
       "    .dataframe tbody tr th {\n",
       "        vertical-align: top;\n",
       "    }\n",
       "\n",
       "    .dataframe thead th {\n",
       "        text-align: right;\n",
       "    }\n",
       "</style>\n",
       "<table border=\"1\" class=\"dataframe\">\n",
       "  <thead>\n",
       "    <tr style=\"text-align: right;\">\n",
       "      <th></th>\n",
       "      <th>PJ00833-10</th>\n",
       "      <th>PJ008374-00</th>\n",
       "      <th>PJ008333-00</th>\n",
       "    </tr>\n",
       "  </thead>\n",
       "  <tbody>\n",
       "    <tr>\n",
       "      <th>2023-09-25</th>\n",
       "      <td>0.5</td>\n",
       "      <td>0.0</td>\n",
       "      <td>0.0</td>\n",
       "    </tr>\n",
       "    <tr>\n",
       "      <th>2023-09-27</th>\n",
       "      <td>0.0</td>\n",
       "      <td>1.5</td>\n",
       "      <td>0.5</td>\n",
       "    </tr>\n",
       "    <tr>\n",
       "      <th>2023-09-28</th>\n",
       "      <td>0.0</td>\n",
       "      <td>0.5</td>\n",
       "      <td>0.0</td>\n",
       "    </tr>\n",
       "  </tbody>\n",
       "</table>\n",
       "</div>"
      ],
      "text/plain": [
       "            PJ00833-10  PJ008374-00  PJ008333-00\n",
       "2023-09-25         0.5          0.0          0.0\n",
       "2023-09-27         0.0          1.5          0.5\n",
       "2023-09-28         0.0          0.5          0.0"
      ]
     },
     "execution_count": 33,
     "metadata": {},
     "output_type": "execute_result"
    }
   ],
   "source": [
    "df.head()"
   ]
  },
  {
   "cell_type": "code",
   "execution_count": null,
   "metadata": {},
   "outputs": [],
   "source": []
  }
 ],
 "metadata": {
  "interpreter": {
   "hash": "4474f00228770bc420ac207a2c1bdc3904d35fd5ab3a94387f1c498ddb153a61"
  },
  "kernelspec": {
   "display_name": "Python 3.9.6 ('google-calendar-ctIqo5RZ-py3.9')",
   "language": "python",
   "name": "python3"
  },
  "language_info": {
   "codemirror_mode": {
    "name": "ipython",
    "version": 3
   },
   "file_extension": ".py",
   "mimetype": "text/x-python",
   "name": "python",
   "nbconvert_exporter": "python",
   "pygments_lexer": "ipython3",
   "version": "3.9.6"
  },
  "orig_nbformat": 4,
  "vscode": {
   "interpreter": {
    "hash": "15b52e4047b8f4abac8c03d78641a40e4e7d506c13da301479b3af1816e206ac"
   }
  }
 },
 "nbformat": 4,
 "nbformat_minor": 2
}

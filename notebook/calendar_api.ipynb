{
 "cells": [
  {
   "cell_type": "markdown",
   "metadata": {},
   "source": [
    "* https://googleapis.github.io/google-api-python-client/docs/\n",
    "* https://www.coppla-note.net/posts/tutorial/google-calendar-api/"
   ]
  },
  {
   "cell_type": "code",
   "execution_count": 42,
   "metadata": {},
   "outputs": [],
   "source": [
    "import os.path\n",
    "from google.oauth2.credentials import Credentials\n",
    "from google_auth_oauthlib.flow import InstalledAppFlow\n",
    "from google.auth.transport.requests import Request\n",
    "from googleapiclient.discovery import build\n",
    "\n",
    "from dateutil import parser\n",
    "import datetime\n",
    "\n",
    "# If modifying these SCOPES, delete the file token.json.\n",
    "SCOPES = ['https://www.googleapis.com/auth/calendar.readonly']\n",
    "\n",
    "\n",
    "def service_google_calendar():\n",
    "    creds = None\n",
    "    flow = InstalledAppFlow.from_client_secrets_file(\n",
    "        '../credentials_oauth.json', SCOPES)\n",
    "    creds = flow.run_local_server(port=0)\n",
    "\n",
    "    service = build('calendar', 'v3', credentials=creds)\n",
    "    return service\n",
    "\n",
    "\n",
    "\n",
    "def get_events(start_date, end_date):\n",
    "    service = service_google_calendar()\n",
    "\n",
    "    timeMin = start_date.isoformat() + 'Z'\n",
    "    timeMax = end_date.isoformat() + 'Z'\n",
    "\n",
    "    print(f'Getting events from {start_date} to {end_date}')\n",
    "    events_result = service.events().list(\n",
    "        calendarId='primary', timeMin=timeMin, timeMax=timeMax,\n",
    "        maxResults=10, singleEvents=True,\n",
    "        orderBy='startTime').execute()\n",
    "    events = events_result.get('items', [])\n",
    "\n",
    "    if not events:\n",
    "        print('No events found.')\n",
    "    data = {}\n",
    "    i = 0\n",
    "    for event in events:\n",
    "        i += 1\n",
    "        start_str = event['start'].get('dateTime', event['start'].get('date'))\n",
    "        end_str = event['end'].get('dateTime', event['end'].get('date'))\n",
    "        description = event.get('description', '')\n",
    "\n",
    "        start_dt = parser.parse(start_str)\n",
    "        end_dt = parser.parse(end_str)\n",
    "        time = end_dt - start_dt\n",
    "\n",
    "        data[i] = {'description': description, 'time' :time }\n",
    "\n",
    "    return data\n"
   ]
  },
  {
   "cell_type": "code",
   "execution_count": 43,
   "metadata": {},
   "outputs": [
    {
     "name": "stdout",
     "output_type": "stream",
     "text": [
      "Please visit this URL to authorize this application: https://accounts.google.com/o/oauth2/auth?response_type=code&client_id=45019495702-9ulabsum4gcg4qf4o4ggi3t6h2lt48ps.apps.googleusercontent.com&redirect_uri=http%3A%2F%2Flocalhost%3A57818%2F&scope=https%3A%2F%2Fwww.googleapis.com%2Fauth%2Fcalendar.readonly&state=yCwIC7p7lmNfOTtDcAOaNEpxbxwMzo&access_type=offline\n",
      "Getting events from 2023-09-01 00:00:00 to 2023-09-30 00:00:00\n"
     ]
    }
   ],
   "source": [
    "start_date = datetime.datetime(2023, 9, 1)\n",
    "end_date = datetime.datetime(2023, 9, 30)\n",
    "data = get_events(start_date, end_date)"
   ]
  },
  {
   "cell_type": "code",
   "execution_count": 44,
   "metadata": {},
   "outputs": [
    {
     "data": {
      "text/plain": [
       "{'description': 'ミーティングID:\\xa0832 7630 3513<br>パスコード: 15151<br><br>▽これまでの発表論文はこちら<br><a href=\"https://deeplearning.jp/seminar-2/\">https://deeplearning.jp/seminar-2/</a>',\n",
       " 'time': datetime.timedelta(seconds=5400)}"
      ]
     },
     "execution_count": 44,
     "metadata": {},
     "output_type": "execute_result"
    }
   ],
   "source": [
    "data[1]"
   ]
  },
  {
   "cell_type": "code",
   "execution_count": 48,
   "metadata": {},
   "outputs": [],
   "source": [
    "def data_to_df(data):\n",
    "    for i in data:\n",
    "        print(data[i]['description'])\n",
    "    return #df"
   ]
  },
  {
   "cell_type": "code",
   "execution_count": 49,
   "metadata": {},
   "outputs": [
    {
     "name": "stdout",
     "output_type": "stream",
     "text": [
      "{'description': 'ミーティングID:\\xa0832 7630 3513<br>パスコード: 15151<br><br>▽これまでの発表論文はこちら<br><a href=\"https://deeplearning.jp/seminar-2/\">https://deeplearning.jp/seminar-2/</a>', 'time': datetime.timedelta(seconds=5400)}\n",
      "{'description': '', 'time': datetime.timedelta(seconds=3600)}\n",
      "{'description': '<a href=\"https://u-tokyo-ac-jp.zoom.us/j/6247622939?pwd=c0dsblA1RnZOcC9HVWxIckpGV3kwQT09\">https://u-tokyo-ac-jp.zoom.us/j/6247622939?pwd=c0dsblA1RnZOcC9HVWxIckpGV3kwQT09</a><br><br>田中さん-&gt;堀口さん-&gt;高木さん', 'time': datetime.timedelta(seconds=7200)}\n",
      "{'description': '', 'time': datetime.timedelta(seconds=21600)}\n",
      "{'description': '', 'time': datetime.timedelta(seconds=7200)}\n",
      "{'description': 'https://coubic.com/rv/8a3a6429e6d84aa87f2d612e400369364b330ee3fe40dff59b5b29417e8d2010', 'time': datetime.timedelta(seconds=3600)}\n",
      "{'description': '', 'time': datetime.timedelta(days=7)}\n",
      "{'description': 'ご予約番号: #35189\\n店名: 琉球新天地\\n日時: 2023/09/05 19:00 入店  \\n住所: 沖縄県石垣市新川1625\\n電話番号: 0980-88-7095\\nウェブサイト: https://ryukyu-shintennchi.com/\\n人数: 2 名様\\n席種: 指定なし\\n\\nコース: アラカルトメニュー  × 2', 'time': datetime.timedelta(seconds=7200)}\n",
      "{'description': 'ミーティングID:\\xa0832 7630 3513<br>パスコード: 15151<br><br>▽これまでの発表論文はこちら<br><a href=\"https://deeplearning.jp/seminar-2/\">https://deeplearning.jp/seminar-2/</a>', 'time': datetime.timedelta(seconds=5400)}\n",
      "{'description': '<a href=\"https://u-tokyo-ac-jp.zoom.us/j/6247622939?pwd=c0dsblA1RnZOcC9HVWxIckpGV3kwQT09\">https://u-tokyo-ac-jp.zoom.us/j/6247622939?pwd=c0dsblA1RnZOcC9HVWxIckpGV3kwQT09</a><br><br>田中さん-&gt;堀口さん-&gt;高木さん', 'time': datetime.timedelta(seconds=7200)}\n"
     ]
    }
   ],
   "source": [
    "data_to_df(data)"
   ]
  },
  {
   "cell_type": "code",
   "execution_count": null,
   "metadata": {},
   "outputs": [],
   "source": []
  }
 ],
 "metadata": {
  "kernelspec": {
   "display_name": "Python 3.9.18 ('.venv': poetry)",
   "language": "python",
   "name": "python3"
  },
  "language_info": {
   "codemirror_mode": {
    "name": "ipython",
    "version": 3
   },
   "file_extension": ".py",
   "mimetype": "text/x-python",
   "name": "python",
   "nbconvert_exporter": "python",
   "pygments_lexer": "ipython3",
   "version": "3.9.18"
  },
  "orig_nbformat": 4,
  "vscode": {
   "interpreter": {
    "hash": "15b52e4047b8f4abac8c03d78641a40e4e7d506c13da301479b3af1816e206ac"
   }
  }
 },
 "nbformat": 4,
 "nbformat_minor": 2
}
